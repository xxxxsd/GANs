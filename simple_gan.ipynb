{
  "nbformat": 4,
  "nbformat_minor": 0,
  "metadata": {
    "colab": {
      "provenance": []
    },
    "kernelspec": {
      "name": "python3",
      "display_name": "Python 3"
    },
    "language_info": {
      "name": "python"
    }
  },
  "cells": [
    {
      "cell_type": "code",
      "execution_count": 1,
      "metadata": {
        "colab": {
          "base_uri": "https://localhost:8080/"
        },
        "id": "zM3UNLUz6qU3",
        "outputId": "652e472e-9ac6-499e-c5a5-0d6d01f88d2d"
      },
      "outputs": [
        {
          "output_type": "stream",
          "name": "stdout",
          "text": [
            "Downloading http://yann.lecun.com/exdb/mnist/train-images-idx3-ubyte.gz\n",
            "Downloading http://yann.lecun.com/exdb/mnist/train-images-idx3-ubyte.gz to dataset/MNIST/raw/train-images-idx3-ubyte.gz\n"
          ]
        },
        {
          "output_type": "stream",
          "name": "stderr",
          "text": [
            "100%|██████████| 9912422/9912422 [00:00<00:00, 246858794.10it/s]"
          ]
        },
        {
          "output_type": "stream",
          "name": "stdout",
          "text": [
            "Extracting dataset/MNIST/raw/train-images-idx3-ubyte.gz to dataset/MNIST/raw\n"
          ]
        },
        {
          "output_type": "stream",
          "name": "stderr",
          "text": [
            "\n"
          ]
        },
        {
          "output_type": "stream",
          "name": "stdout",
          "text": [
            "\n",
            "Downloading http://yann.lecun.com/exdb/mnist/train-labels-idx1-ubyte.gz\n",
            "Downloading http://yann.lecun.com/exdb/mnist/train-labels-idx1-ubyte.gz to dataset/MNIST/raw/train-labels-idx1-ubyte.gz\n"
          ]
        },
        {
          "output_type": "stream",
          "name": "stderr",
          "text": [
            "100%|██████████| 28881/28881 [00:00<00:00, 23264008.80it/s]\n"
          ]
        },
        {
          "output_type": "stream",
          "name": "stdout",
          "text": [
            "Extracting dataset/MNIST/raw/train-labels-idx1-ubyte.gz to dataset/MNIST/raw\n",
            "\n",
            "Downloading http://yann.lecun.com/exdb/mnist/t10k-images-idx3-ubyte.gz\n",
            "Downloading http://yann.lecun.com/exdb/mnist/t10k-images-idx3-ubyte.gz to dataset/MNIST/raw/t10k-images-idx3-ubyte.gz\n"
          ]
        },
        {
          "output_type": "stream",
          "name": "stderr",
          "text": [
            "100%|██████████| 1648877/1648877 [00:00<00:00, 129477129.53it/s]"
          ]
        },
        {
          "output_type": "stream",
          "name": "stdout",
          "text": [
            "Extracting dataset/MNIST/raw/t10k-images-idx3-ubyte.gz to dataset/MNIST/raw\n"
          ]
        },
        {
          "output_type": "stream",
          "name": "stderr",
          "text": [
            "\n"
          ]
        },
        {
          "output_type": "stream",
          "name": "stdout",
          "text": [
            "\n",
            "Downloading http://yann.lecun.com/exdb/mnist/t10k-labels-idx1-ubyte.gz\n",
            "Downloading http://yann.lecun.com/exdb/mnist/t10k-labels-idx1-ubyte.gz to dataset/MNIST/raw/t10k-labels-idx1-ubyte.gz\n"
          ]
        },
        {
          "output_type": "stream",
          "name": "stderr",
          "text": [
            "100%|██████████| 4542/4542 [00:00<00:00, 13057250.70it/s]\n"
          ]
        },
        {
          "output_type": "stream",
          "name": "stdout",
          "text": [
            "Extracting dataset/MNIST/raw/t10k-labels-idx1-ubyte.gz to dataset/MNIST/raw\n",
            "\n",
            "Epoch [0/50] Batch 0/1875                       Loss D: 0.6754, loss G: 0.7183\n",
            "Epoch [1/50] Batch 0/1875                       Loss D: 0.8289, loss G: 0.5386\n",
            "Epoch [2/50] Batch 0/1875                       Loss D: 0.2653, loss G: 1.7777\n",
            "Epoch [3/50] Batch 0/1875                       Loss D: 0.4728, loss G: 1.1457\n",
            "Epoch [4/50] Batch 0/1875                       Loss D: 0.7613, loss G: 0.7815\n",
            "Epoch [5/50] Batch 0/1875                       Loss D: 0.8126, loss G: 0.9005\n",
            "Epoch [6/50] Batch 0/1875                       Loss D: 0.4089, loss G: 1.2914\n",
            "Epoch [7/50] Batch 0/1875                       Loss D: 0.8545, loss G: 0.7659\n",
            "Epoch [8/50] Batch 0/1875                       Loss D: 0.7283, loss G: 0.8552\n",
            "Epoch [9/50] Batch 0/1875                       Loss D: 0.8291, loss G: 0.7211\n",
            "Epoch [10/50] Batch 0/1875                       Loss D: 0.7160, loss G: 0.7777\n",
            "Epoch [11/50] Batch 0/1875                       Loss D: 0.6552, loss G: 1.0285\n",
            "Epoch [12/50] Batch 0/1875                       Loss D: 0.4812, loss G: 1.5358\n",
            "Epoch [13/50] Batch 0/1875                       Loss D: 0.6886, loss G: 1.3681\n",
            "Epoch [14/50] Batch 0/1875                       Loss D: 0.5963, loss G: 1.2535\n",
            "Epoch [15/50] Batch 0/1875                       Loss D: 0.3903, loss G: 1.8232\n",
            "Epoch [16/50] Batch 0/1875                       Loss D: 0.5242, loss G: 1.7565\n",
            "Epoch [17/50] Batch 0/1875                       Loss D: 0.5353, loss G: 1.2214\n",
            "Epoch [18/50] Batch 0/1875                       Loss D: 0.6562, loss G: 1.3150\n",
            "Epoch [19/50] Batch 0/1875                       Loss D: 0.6171, loss G: 1.6529\n",
            "Epoch [20/50] Batch 0/1875                       Loss D: 0.4486, loss G: 1.2056\n",
            "Epoch [21/50] Batch 0/1875                       Loss D: 0.4655, loss G: 1.5699\n",
            "Epoch [22/50] Batch 0/1875                       Loss D: 0.6437, loss G: 1.2886\n",
            "Epoch [23/50] Batch 0/1875                       Loss D: 0.4896, loss G: 1.6653\n",
            "Epoch [24/50] Batch 0/1875                       Loss D: 0.5828, loss G: 1.2550\n",
            "Epoch [25/50] Batch 0/1875                       Loss D: 0.5789, loss G: 1.1646\n",
            "Epoch [26/50] Batch 0/1875                       Loss D: 0.4659, loss G: 1.2600\n",
            "Epoch [27/50] Batch 0/1875                       Loss D: 0.6139, loss G: 1.5057\n",
            "Epoch [28/50] Batch 0/1875                       Loss D: 0.5270, loss G: 1.3124\n",
            "Epoch [29/50] Batch 0/1875                       Loss D: 0.6194, loss G: 1.2461\n",
            "Epoch [30/50] Batch 0/1875                       Loss D: 0.3585, loss G: 1.9296\n",
            "Epoch [31/50] Batch 0/1875                       Loss D: 0.5758, loss G: 1.5389\n",
            "Epoch [32/50] Batch 0/1875                       Loss D: 0.5430, loss G: 1.4025\n",
            "Epoch [33/50] Batch 0/1875                       Loss D: 0.5863, loss G: 1.4551\n",
            "Epoch [34/50] Batch 0/1875                       Loss D: 0.6667, loss G: 1.1968\n",
            "Epoch [35/50] Batch 0/1875                       Loss D: 0.6506, loss G: 1.1315\n",
            "Epoch [36/50] Batch 0/1875                       Loss D: 0.7370, loss G: 1.1397\n",
            "Epoch [37/50] Batch 0/1875                       Loss D: 0.4843, loss G: 1.6405\n",
            "Epoch [38/50] Batch 0/1875                       Loss D: 0.6381, loss G: 1.6068\n",
            "Epoch [39/50] Batch 0/1875                       Loss D: 0.5985, loss G: 1.2449\n",
            "Epoch [40/50] Batch 0/1875                       Loss D: 0.5577, loss G: 1.0875\n",
            "Epoch [41/50] Batch 0/1875                       Loss D: 0.5851, loss G: 1.1579\n",
            "Epoch [42/50] Batch 0/1875                       Loss D: 0.6659, loss G: 1.5158\n",
            "Epoch [43/50] Batch 0/1875                       Loss D: 0.5673, loss G: 1.1833\n",
            "Epoch [44/50] Batch 0/1875                       Loss D: 0.5130, loss G: 1.4279\n",
            "Epoch [45/50] Batch 0/1875                       Loss D: 0.6250, loss G: 1.0553\n",
            "Epoch [46/50] Batch 0/1875                       Loss D: 0.6671, loss G: 1.0868\n",
            "Epoch [47/50] Batch 0/1875                       Loss D: 0.6073, loss G: 0.9869\n",
            "Epoch [48/50] Batch 0/1875                       Loss D: 0.5315, loss G: 1.4522\n",
            "Epoch [49/50] Batch 0/1875                       Loss D: 0.5777, loss G: 1.4739\n"
          ]
        }
      ],
      "source": [
        "\"\"\"\n",
        "Simple GAN using fully connected layers\n",
        "\n",
        "\"\"\"\n",
        "\n",
        "\n",
        "import torch\n",
        "import torch.nn as nn\n",
        "import torch.optim as optim\n",
        "import torchvision\n",
        "import torchvision.datasets as datasets\n",
        "from torch.utils.data import DataLoader\n",
        "import torchvision.transforms as transforms\n",
        "from torch.utils.tensorboard import SummaryWriter  # to print to tensorboard\n",
        "\n",
        "\n",
        "class Discriminator(nn.Module):\n",
        "    def __init__(self, in_features):\n",
        "        super().__init__()\n",
        "        self.disc = nn.Sequential(\n",
        "            nn.Linear(in_features, 128),\n",
        "            nn.LeakyReLU(0.01),\n",
        "            nn.Linear(128, 1),\n",
        "            nn.Sigmoid(),\n",
        "        )\n",
        "\n",
        "    def forward(self, x):\n",
        "        return self.disc(x)\n",
        "\n",
        "\n",
        "class Generator(nn.Module):\n",
        "    def __init__(self, z_dim, img_dim):\n",
        "        super().__init__()\n",
        "        self.gen = nn.Sequential(\n",
        "            nn.Linear(z_dim, 256),\n",
        "            nn.LeakyReLU(0.01),\n",
        "            nn.Linear(256, img_dim),\n",
        "            nn.Tanh(),  # normalize inputs to [-1, 1] so make outputs [-1, 1]\n",
        "        )\n",
        "\n",
        "    def forward(self, x):\n",
        "        return self.gen(x)\n",
        "\n",
        "\n",
        "# Hyperparameters etc.\n",
        "device = \"cuda\" if torch.cuda.is_available() else \"cpu\"\n",
        "lr = 3e-4\n",
        "z_dim = 64\n",
        "image_dim = 28 * 28 * 1  # 784\n",
        "batch_size = 32\n",
        "num_epochs = 50\n",
        "\n",
        "disc = Discriminator(image_dim).to(device)\n",
        "gen = Generator(z_dim, image_dim).to(device)\n",
        "fixed_noise = torch.randn((batch_size, z_dim)).to(device)\n",
        "transforms = transforms.Compose(\n",
        "    [\n",
        "        transforms.ToTensor(),\n",
        "        transforms.Normalize((0.5,), (0.5,)),\n",
        "    ]\n",
        ")\n",
        "\n",
        "dataset = datasets.MNIST(root=\"dataset/\", transform=transforms, download=True)\n",
        "loader = DataLoader(dataset, batch_size=batch_size, shuffle=True)\n",
        "opt_disc = optim.Adam(disc.parameters(), lr=lr)\n",
        "opt_gen = optim.Adam(gen.parameters(), lr=lr)\n",
        "criterion = nn.BCELoss()\n",
        "writer_fake = SummaryWriter(f\"logs/fake\")\n",
        "writer_real = SummaryWriter(f\"logs/real\")\n",
        "step = 0\n",
        "\n",
        "for epoch in range(num_epochs):\n",
        "    for batch_idx, (real, _) in enumerate(loader):\n",
        "        real = real.view(-1, 784).to(device)\n",
        "        batch_size = real.shape[0]\n",
        "\n",
        "        ### Train Discriminator: max log(D(x)) + log(1 - D(G(z)))\n",
        "        noise = torch.randn(batch_size, z_dim).to(device)\n",
        "        fake = gen(noise)\n",
        "        disc_real = disc(real).view(-1)\n",
        "        lossD_real = criterion(disc_real, torch.ones_like(disc_real))\n",
        "        disc_fake = disc(fake).view(-1)\n",
        "        lossD_fake = criterion(disc_fake, torch.zeros_like(disc_fake))\n",
        "        lossD = (lossD_real + lossD_fake) / 2\n",
        "        disc.zero_grad()\n",
        "        lossD.backward(retain_graph=True)\n",
        "        opt_disc.step()\n",
        "\n",
        "        ### Train Generator: min log(1 - D(G(z))) <-> max log(D(G(z))\n",
        "        # where the second option of maximizing doesn't suffer from\n",
        "        # saturating gradients\n",
        "        output = disc(fake).view(-1)\n",
        "        lossG = criterion(output, torch.ones_like(output))\n",
        "        gen.zero_grad()\n",
        "        lossG.backward()\n",
        "        opt_gen.step()\n",
        "\n",
        "        if batch_idx == 0:\n",
        "            print(\n",
        "                f\"Epoch [{epoch}/{num_epochs}] Batch {batch_idx}/{len(loader)} \\\n",
        "                      Loss D: {lossD:.4f}, loss G: {lossG:.4f}\"\n",
        "            )\n",
        "\n",
        "            with torch.no_grad():\n",
        "                fake = gen(fixed_noise).reshape(-1, 1, 28, 28)\n",
        "                data = real.reshape(-1, 1, 28, 28)\n",
        "                img_grid_fake = torchvision.utils.make_grid(fake, normalize=True)\n",
        "                img_grid_real = torchvision.utils.make_grid(data, normalize=True)\n",
        "\n",
        "                writer_fake.add_image(\n",
        "                    \"Mnist Fake Images\", img_grid_fake, global_step=step\n",
        "                )\n",
        "                writer_real.add_image(\n",
        "                    \"Mnist Real Images\", img_grid_real, global_step=step\n",
        "                )\n",
        "                step += 1"
      ]
    }
  ]
}